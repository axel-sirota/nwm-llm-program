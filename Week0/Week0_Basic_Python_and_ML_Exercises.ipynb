{
  "cells": [
    {
      "cell_type": "markdown",
      "metadata": {
        "id": "view-in-github",
        "colab_type": "text"
      },
      "source": [
        "<a href=\"https://colab.research.google.com/github/axel-sirota/nwm-llm-program/blob/main/Week0/Week0_Basic_Python_and_ML_Exercises.ipynb\" target=\"_parent\"><img src=\"https://colab.research.google.com/assets/colab-badge.svg\" alt=\"Open In Colab\"/></a>"
      ]
    },
    {
      "cell_type": "markdown",
      "id": "144ebf7d",
      "metadata": {
        "id": "144ebf7d"
      },
      "source": [
        "# Basic Python and Machine Learning Review Exercises"
      ]
    },
    {
      "cell_type": "markdown",
      "id": "0ee45775",
      "metadata": {
        "id": "0ee45775"
      },
      "source": [
        "In this notebook, you'll review key concepts in Python and machine learning. Each exercise is designed to help solidify your understanding by applying these concepts to practical tasks. Please fill in the code where indicated."
      ]
    },
    {
      "cell_type": "markdown",
      "id": "9be061d2",
      "metadata": {
        "id": "9be061d2"
      },
      "source": [
        "## Exercise 1: Python Functions, Loops, and Dictionaries"
      ]
    },
    {
      "cell_type": "markdown",
      "id": "d5d893c8",
      "metadata": {
        "id": "d5d893c8"
      },
      "source": [
        "### Task: Write a function that takes a list of numbers and returns a dictionary where the keys are the numbers and the values are the squares of the numbers.\n",
        "You need to iterate over the list using a loop and store the squares in a dictionary."
      ]
    },
    {
      "cell_type": "code",
      "execution_count": null,
      "id": "6428fe8b",
      "metadata": {
        "id": "6428fe8b"
      },
      "outputs": [],
      "source": [
        "def square_dict(numbers):\n",
        "    result = {}  # Create an empty dictionary\n",
        "    for num in numbers:\n",
        "        # Your code here: add the number as the key and its square as the value\n",
        "        pass\n",
        "    return result\n",
        "\n",
        "numbers = [1, 2, 3, 4, 5]\n",
        "print(square_dict(numbers))  # Expected output: {1: 1, 2: 4, 3: 9, 4: 16, 5: 25}"
      ]
    },
    {
      "cell_type": "markdown",
      "id": "4a485d07",
      "metadata": {
        "id": "4a485d07"
      },
      "source": [
        "## Exercise 2: Generators and Loops"
      ]
    },
    {
      "cell_type": "markdown",
      "id": "4d499cc3",
      "metadata": {
        "id": "4d499cc3"
      },
      "source": [
        "### Task: Create a generator that yields squares of numbers from 1 to 10, and use a loop to print each generated value.\n",
        "Generators use `yield` instead of `return` to produce a sequence of results lazily (one at a time)."
      ]
    },
    {
      "cell_type": "code",
      "execution_count": null,
      "id": "ca707ad4",
      "metadata": {
        "id": "ca707ad4"
      },
      "outputs": [],
      "source": [
        "def square_generator():\n",
        "    for i in range(1, 11):\n",
        "        yield None  # Replace None with the correct operation to yield squares of i\n",
        "\n",
        "for value in square_generator():\n",
        "    print(value)  # Expected output: 1, 4, 9, 16, ... 100"
      ]
    },
    {
      "cell_type": "markdown",
      "id": "573fd089",
      "metadata": {
        "id": "573fd089"
      },
      "source": [
        "## Exercise 3: Linear Regression with California Housing Dataset"
      ]
    },
    {
      "cell_type": "markdown",
      "id": "20f3bef3",
      "metadata": {
        "id": "20f3bef3"
      },
      "source": [
        "### Task: Load the California Housing dataset, perform a train-test split, and implement linear regression to predict housing prices.\n",
        "You will use `sklearn` to load the dataset, split it into training and testing sets, and fit a linear regression model. You will also evaluate the model's performance.\n",
        "\n",
        "Remember to:\n",
        "- Split the data using `train_test_split`\n",
        "- Fit the `LinearRegression` model\n",
        "- Predict and evaluate using metrics like MSE and R2 score."
      ]
    },
    {
      "cell_type": "code",
      "execution_count": null,
      "id": "d4d77dc5",
      "metadata": {
        "id": "d4d77dc5"
      },
      "outputs": [],
      "source": [
        "from sklearn.datasets import fetch_california_housing\n",
        "from sklearn.model_selection import train_test_split\n",
        "from sklearn.linear_model import LinearRegression\n",
        "\n",
        "# Load the data\n",
        "california = fetch_california_housing()\n",
        "X = california.data\n",
        "y = california.target\n",
        "\n",
        "# Split the data using train_test_split function\n",
        "X_train, X_test, y_train, y_test = None\n",
        "\n",
        "# Create the model\n",
        "model = None\n",
        "model.fit(X_train, y_train)\n",
        "\n",
        "# Predict and evaluate\n",
        "predictions = model.predict(X_test)\n",
        "mse = None  # Calculate mean squared error here\n",
        "r2 = None  # Calculate R2 score here\n",
        "print(f\"MSE: {mse}\")\n",
        "print(f\"R2 Score: {r2}\")"
      ]
    },
    {
      "cell_type": "markdown",
      "id": "71c6c0dc",
      "metadata": {
        "id": "71c6c0dc"
      },
      "source": [
        "## Exercise 4: Logistic Regression with Iris Dataset"
      ]
    },
    {
      "cell_type": "markdown",
      "id": "7923471d",
      "metadata": {
        "id": "7923471d"
      },
      "source": [
        "### Task: Load the Iris dataset, perform a train-test split, and implement logistic regression to classify the species of iris flowers.\n",
        "You will use `LogisticRegression` to predict the species of iris based on the features. Remember to split the data first.\n",
        "\n",
        "Steps:\n",
        "- Load the Iris dataset\n",
        "- Split the data into training and testing sets\n",
        "- Train the logistic regression model\n",
        "- Predict and evaluate the model's accuracy"
      ]
    },
    {
      "cell_type": "code",
      "execution_count": null,
      "id": "73d3e652",
      "metadata": {
        "id": "73d3e652"
      },
      "outputs": [],
      "source": [
        "from sklearn.datasets import load_iris\n",
        "from sklearn.model_selection import train_test_split\n",
        "from sklearn.linear_model import LogisticRegression\n",
        "\n",
        "# Load the data\n",
        "iris = load_iris()\n",
        "X = None  # Replace None with the correct operation to get the data\n",
        "y = None  # Replace None with the correct operation to get the target\n",
        "\n",
        "# Split the data\n",
        "X_train, X_test, y_train, y_test = train_test_split(X, y, test_size=0.2, random_state=42)\n",
        "\n",
        "# Create the model and fit it\n",
        "model = None  # Replace None with the correct operation to create a LogisticRegression model\n",
        "\n",
        "# Predict and evaluate\n",
        "predictions = model.predict(X_test)\n",
        "accuracy = None  # Calculate accuracy here\n",
        "print(f\"Accuracy: {accuracy}\")"
      ]
    },
    {
      "cell_type": "markdown",
      "id": "f150ef4b",
      "metadata": {
        "id": "f150ef4b"
      },
      "source": [
        "## Exercise 5: Clustering with PCA and K-Means"
      ]
    },
    {
      "cell_type": "markdown",
      "id": "654d62ec",
      "metadata": {
        "id": "654d62ec"
      },
      "source": [
        "### Task: Use PCA to reduce the dimensions of the Iris dataset and then perform K-Means clustering.\n",
        "First, apply PCA to reduce the feature dimensions, and then use K-Means to cluster the data into 3 clusters.\n",
        "\n",
        "Steps:\n",
        "- Apply PCA to reduce to 2 components\n",
        "- Fit the K-Means clustering algorithm\n",
        "- Predict and analyze the clusters"
      ]
    },
    {
      "cell_type": "code",
      "execution_count": null,
      "id": "677c2b61",
      "metadata": {
        "id": "677c2b61"
      },
      "outputs": [],
      "source": [
        "from sklearn.decomposition import PCA\n",
        "from sklearn.cluster import KMeans\n",
        "\n",
        "# Apply PCA\n",
        "pca = None  # Replace None with the correct operation to create a PCA model\n",
        "X_pca = None  # Replace None with the correct operation to apply PCA to the data\n",
        "\n",
        "# Perform K-Means clustering\n",
        "kmeans = KMeans(n_clusters=3)\n",
        "kmeans.fit(X_pca)\n",
        "\n",
        "# Predict cluster labels\n",
        "clusters = kmeans.predict(X_pca)\n",
        "print(clusters)  # Analyze the cluster assignments"
      ]
    }
  ],
  "metadata": {
    "colab": {
      "provenance": [],
      "include_colab_link": true
    }
  },
  "nbformat": 4,
  "nbformat_minor": 5
}